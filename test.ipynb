{
 "cells": [
  {
   "cell_type": "code",
   "execution_count": 1,
   "metadata": {},
   "outputs": [
    {
     "name": "stderr",
     "output_type": "stream",
     "text": [
      "Reading condensed nodes dict: 100%|██████████| 588400/588400 [00:01<00:00, 379124.05it/s]\n",
      "Expanding condensed nodes: 5509021it [00:29, 186935.68it/s]\n"
     ]
    }
   ],
   "source": [
    "import gzip\n",
    "import treeswift\n",
    "import parsimony_pb2\n",
    "import tqdm\n",
    "def preorder_traversal(node):\n",
    "    yield node\n",
    "    for clade in node.children:\n",
    "        yield from preorder_traversal(clade)\n",
    "\n",
    "\n",
    "def preorder_traversal_iter(node):\n",
    "    return iter(preorder_traversal(node))\n",
    "\n",
    "\n",
    "class UsherMutationAnnotatedTree:\n",
    "    def __init__(self, tree_file):\n",
    "        self.data = parsimony_pb2.data()\n",
    "        self.data.ParseFromString(tree_file.read())\n",
    "        self.condensed_nodes_dict = self.get_condensed_nodes_dict(\n",
    "            self.data.condensed_nodes)\n",
    "        self.tree = treeswift.read_tree(self.data.newick, schema=\"newick\")\n",
    "        self.data.newick = ''\n",
    "\n",
    "        self.annotate_mutations()\n",
    "        self.expand_condensed_nodes()\n",
    "\n",
    "    def annotate_mutations(self):\n",
    "        for i, node in enumerate(preorder_traversal(self.tree.root)):\n",
    "            node.nuc_mutations = self.data.node_mutations[i].mutation\n",
    "\n",
    "    def set_branch_lengths(self):\n",
    "        for i, node in enumerate(preorder_traversal(self.tree.root)):\n",
    "            node.edge_length = len(node.nuc_mutations.mutation)\n",
    "\n",
    "    def expand_condensed_nodes(self):\n",
    "        for i, node in tqdm.tqdm(enumerate(self.tree.traverse_leaves()),\n",
    "                                 desc=\"Expanding condensed nodes\",\n",
    "                                 miniters=100000,mininterval=10):\n",
    "\n",
    "            if node.label and node.label in self.condensed_nodes_dict:\n",
    "\n",
    "                for new_node_label in self.condensed_nodes_dict[node.label]:\n",
    "                    new_node = treeswift.Node(label=new_node_label)\n",
    "                    new_node.nuc_mutations = []\n",
    "                    new_node.aa_subs = []\n",
    "                    node.add_child(new_node)\n",
    "                node.label = \"\"\n",
    "            else:\n",
    "                pass\n",
    "\n",
    "    def get_condensed_nodes_dict(self, condensed_nodes_dict):\n",
    "        output_dict = {}\n",
    "        for condensed_node in tqdm.tqdm(condensed_nodes_dict,\n",
    "                                        desc=\"Reading condensed nodes dict\",\n",
    "                                        miniters=100000,mininterval=10):\n",
    "            output_dict[\n",
    "                condensed_node.node_name] = condensed_node.condensed_leaves\n",
    "        return output_dict\n",
    "\n",
    "f = open(\"/mnt/data/gisaid_data/optimised_trimmed.pb\", \"rb\")\n",
    "\n",
    "\n",
    "mat = UsherMutationAnnotatedTree(f)\n",
    "\n"
   ]
  },
  {
   "cell_type": "code",
   "execution_count": 21,
   "metadata": {},
   "outputs": [],
   "source": [
    "leaves = mat.tree.traverse_leaves()\n",
    "num_leaves = 10000\n",
    "top_leaves = []\n",
    "for i, leaf in enumerate(leaves):\n",
    "    if i < num_leaves:\n",
    "        top_leaves.append(leaf)\n",
    "    else:\n",
    "        break\n"
   ]
  },
  {
   "cell_type": "code",
   "execution_count": 61,
   "metadata": {},
   "outputs": [],
   "source": [
    "\n",
    "url = \"https://raw.githubusercontent.com/W-L/ProblematicSites_SARS-CoV2/master/archived_vcf/problematic_sites_sarsCov2.2021-10-14-11%3A49.vcf\"\n",
    "import urllib\n",
    "import gzip\n",
    "# iterate over lines\n",
    "masked_positions = set()\n",
    "with urllib.request.urlopen(url) as response:\n",
    "        for line in response:\n",
    "            line = line.decode('utf-8')\n",
    "\n",
    "            if line.startswith('#'):\n",
    "                continue\n",
    "            # parse line\n",
    "            print\n",
    "            fields = line.split('\\t')\n",
    "            chrom = fields[0]\n",
    "            pos = int(fields[1])\n",
    "            ref = fields[3]\n",
    "            alt = fields[4]\n",
    "            qual = fields[5]\n",
    "            filt = fields[6]\n",
    "            if filt==\"mask\":\n",
    "                masked_positions.add(pos)\n",
    "\n",
    "masked_pos_to_real_pos = {}\n",
    "\n",
    "masked_i = 0\n",
    "for i in range(max(list(masked_positions))):\n",
    "    masked_pos_to_real_pos[masked_i] = i\n",
    "    if i+1 not in masked_positions:\n",
    "        masked_i+=1\n"
   ]
  },
  {
   "cell_type": "code",
   "execution_count": 62,
   "metadata": {},
   "outputs": [
    {
     "name": "stdout",
     "output_type": "stream",
     "text": [
      "---\n",
      "a EPI_ISL_515606\n",
      "a None\n",
      "a None\n",
      "a None\n",
      "a None\n",
      "a None\n",
      "a None\n",
      "a None\n",
      "a None\n",
      "a None\n",
      "{23264, 23781, 9769, 2973, 26384, 1329, 11825, 184, 22549, 27414, 117, 3576, 2875, 636, 21469, 14302}\n",
      "['G174T', 'C241T', 'T694A', 'C1387T', 'C2939A', 'C3037T', 'A3643C', 'C9857T', 'T11920C', 'C14408T', 'G21600T', 'C22687T', 'A23403G', 'A23920G', 'A26530G', 'G27561T']\n"
     ]
    }
   ],
   "source": [
    "letters = \"ACGT\"\n",
    "def get_info(leaf):\n",
    "    print(\"---\")\n",
    "    positions_mutated = set()\n",
    "    cur_node = leaf\n",
    "    starting_nucs = {}\n",
    "    ending_nucs = {}\n",
    "    while not cur_node.is_root():\n",
    "        \n",
    "        print(\"a\",cur_node.label)\n",
    "       \n",
    "        for mutation in cur_node.nuc_mutations:\n",
    "            #print(mutation)\n",
    "            positions_mutated.add(mutation.position)\n",
    "            if mutation.position not in ending_nucs:\n",
    "                ending_nucs[mutation.position] = mutation.mut_nuc[0]\n",
    "            starting_nucs[mutation.position] = mutation.ref_nuc\n",
    "        cur_node = cur_node.get_parent()\n",
    "    print(positions_mutated)\n",
    "    filtered_positions = [x for x in positions_mutated if starting_nucs[x] != ending_nucs[x]]\n",
    "    \n",
    "    full_muts = [f\"{letters[starting_nucs[x]]}{masked_pos_to_real_pos[x]}{letters[ending_nucs[x]]}\" for x in sorted(filtered_positions)]\n",
    "    print(full_muts)\n",
    "\n",
    "for leaf in top_leaves[9004:9005]:\n",
    "    if True or leaf.label == \"EPI_ISL_509302\":\n",
    "        get_info(leaf)"
   ]
  },
  {
   "cell_type": "code",
   "execution_count": null,
   "metadata": {},
   "outputs": [],
   "source": [
    "\n",
    "for leaf in tqdm.tqdm(mat.tree.traverse_leaves()):\n",
    "\n",
    "\n",
    "\n",
    "        cur_node = cur_node.parent\n",
    "    mutation_string = \",\".join(str(pos) for pos in sorted(positions_mutated) if starting_nucs[pos] != ending_nucs[pos])\n",
    "    print(f\"{leaf.label}:{mutation_string}\")"
   ]
  }
 ],
 "metadata": {
  "interpreter": {
   "hash": "916dbcbb3f70747c44a77c7bcd40155683ae19c65e1c03b4aa3499c5328201f1"
  },
  "kernelspec": {
   "display_name": "Python 3.8.5 64-bit",
   "language": "python",
   "name": "python3"
  },
  "language_info": {
   "codemirror_mode": {
    "name": "ipython",
    "version": 3
   },
   "file_extension": ".py",
   "mimetype": "text/x-python",
   "name": "python",
   "nbconvert_exporter": "python",
   "pygments_lexer": "ipython3",
   "version": "3.9.5"
  },
  "orig_nbformat": 4
 },
 "nbformat": 4,
 "nbformat_minor": 2
}
